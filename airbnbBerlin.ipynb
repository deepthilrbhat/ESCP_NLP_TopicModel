{
 "cells": [
  {
   "cell_type": "code",
   "execution_count": 1,
   "metadata": {},
   "outputs": [],
   "source": [
    "import matplotlib.pyplot as plt\n",
    "import seaborn as sns\n",
    "import pandas as pd\n",
    "import numpy as np\n",
    "\n"
   ]
  },
  {
   "cell_type": "code",
   "execution_count": 5,
   "metadata": {},
   "outputs": [
    {
     "name": "stdout",
     "output_type": "stream",
     "text": [
      "     id                        listing_url       scrape_id last_scraped  \\\n",
      "0  2015  https://www.airbnb.com/rooms/2015  20181107122246   2018-11-07   \n",
      "1  2695  https://www.airbnb.com/rooms/2695  20181107122246   2018-11-07   \n",
      "2  3176  https://www.airbnb.com/rooms/3176  20181107122246   2018-11-07   \n",
      "3  3309  https://www.airbnb.com/rooms/3309  20181107122246   2018-11-07   \n",
      "4  7071  https://www.airbnb.com/rooms/7071  20181107122246   2018-11-07   \n",
      "\n",
      "                                               name  \\\n",
      "0  Berlin-Mitte Value! Quiet courtyard/very central   \n",
      "1                Prenzlauer Berg close to Mauerpark   \n",
      "2                   Fabulous Flat in great Location   \n",
      "3                 BerlinSpot Schöneberg near KaDeWe   \n",
      "4                  BrightRoom with sunny greenview!   \n",
      "\n",
      "                                             summary  \\\n",
      "0  Great location!  30 of 75 sq meters. This wood...   \n",
      "1                                                NaN   \n",
      "2  This beautiful first floor apartment  is situa...   \n",
      "3  First of all: I prefer short-notice bookings. ...   \n",
      "4  Cozy and large room in the beautiful district ...   \n",
      "\n",
      "                                               space  \\\n",
      "0  A+++ location! This „Einliegerwohnung“ is an e...   \n",
      "1  In the summertime we are spending most of our ...   \n",
      "2  1st floor (68m2) apartment on Kollwitzplatz/ P...   \n",
      "3  Your room is really big and has 26 sqm, is ver...   \n",
      "4  The BrightRoom is an approx. 20 sqm (215ft²), ...   \n",
      "\n",
      "                                         description experiences_offered  \\\n",
      "0  Great location!  30 of 75 sq meters. This wood...                none   \n",
      "1  In the summertime we are spending most of our ...                none   \n",
      "2  This beautiful first floor apartment  is situa...                none   \n",
      "3  First of all: I prefer short-notice bookings. ...                none   \n",
      "4  Cozy and large room in the beautiful district ...                none   \n",
      "\n",
      "                               neighborhood_overview  ... requires_license  \\\n",
      "0  It is located in the former East Berlin area o...  ...                t   \n",
      "1                                                NaN  ...                t   \n",
      "2  The neighbourhood is famous for its variety of...  ...                t   \n",
      "3  My flat is in the middle of West-Berlin, direc...  ...                t   \n",
      "4  Great neighborhood with plenty of Cafés, Baker...  ...                t   \n",
      "\n",
      "  license jurisdiction_names instant_bookable is_business_travel_ready  \\\n",
      "0     NaN                NaN                f                        f   \n",
      "1     NaN                NaN                f                        f   \n",
      "2     NaN                NaN                t                        f   \n",
      "3     NaN                NaN                f                        f   \n",
      "4     NaN                NaN                f                        f   \n",
      "\n",
      "           cancellation_policy  require_guest_profile_picture  \\\n",
      "0  strict_14_with_grace_period                              f   \n",
      "1                     flexible                              f   \n",
      "2  strict_14_with_grace_period                              f   \n",
      "3  strict_14_with_grace_period                              f   \n",
      "4                     moderate                              f   \n",
      "\n",
      "  require_guest_phone_verification  calculated_host_listings_count  \\\n",
      "0                                f                               4   \n",
      "1                                f                               1   \n",
      "2                                f                               1   \n",
      "3                                f                               1   \n",
      "4                                f                               1   \n",
      "\n",
      "   reviews_per_month  \n",
      "0               3.76  \n",
      "1               1.42  \n",
      "2               1.25  \n",
      "3               0.39  \n",
      "4               1.75  \n",
      "\n",
      "[5 rows x 96 columns]\n",
      "Index(['id', 'listing_url', 'scrape_id', 'last_scraped', 'name', 'summary',\n",
      "       'space', 'description', 'experiences_offered', 'neighborhood_overview',\n",
      "       'notes', 'transit', 'access', 'interaction', 'house_rules',\n",
      "       'thumbnail_url', 'medium_url', 'picture_url', 'xl_picture_url',\n",
      "       'host_id', 'host_url', 'host_name', 'host_since', 'host_location',\n",
      "       'host_about', 'host_response_time', 'host_response_rate',\n",
      "       'host_acceptance_rate', 'host_is_superhost', 'host_thumbnail_url',\n",
      "       'host_picture_url', 'host_neighbourhood', 'host_listings_count',\n",
      "       'host_total_listings_count', 'host_verifications',\n",
      "       'host_has_profile_pic', 'host_identity_verified', 'street',\n",
      "       'neighbourhood', 'neighbourhood_cleansed',\n",
      "       'neighbourhood_group_cleansed', 'city', 'state', 'zipcode', 'market',\n",
      "       'smart_location', 'country_code', 'country', 'latitude', 'longitude',\n",
      "       'is_location_exact', 'property_type', 'room_type', 'accommodates',\n",
      "       'bathrooms', 'bedrooms', 'beds', 'bed_type', 'amenities', 'square_feet',\n",
      "       'price', 'weekly_price', 'monthly_price', 'security_deposit',\n",
      "       'cleaning_fee', 'guests_included', 'extra_people', 'minimum_nights',\n",
      "       'maximum_nights', 'calendar_updated', 'has_availability',\n",
      "       'availability_30', 'availability_60', 'availability_90',\n",
      "       'availability_365', 'calendar_last_scraped', 'number_of_reviews',\n",
      "       'first_review', 'last_review', 'review_scores_rating',\n",
      "       'review_scores_accuracy', 'review_scores_cleanliness',\n",
      "       'review_scores_checkin', 'review_scores_communication',\n",
      "       'review_scores_location', 'review_scores_value', 'requires_license',\n",
      "       'license', 'jurisdiction_names', 'instant_bookable',\n",
      "       'is_business_travel_ready', 'cancellation_policy',\n",
      "       'require_guest_profile_picture', 'require_guest_phone_verification',\n",
      "       'calculated_host_listings_count', 'reviews_per_month'],\n",
      "      dtype='object')\n",
      "(22552, 96)\n"
     ]
    }
   ],
   "source": [
    "df_listings = pd.read_csv('listings_summary.csv')\n",
    "\n",
    "print(df_listings.head())\n",
    "print(df_listings.columns)\n",
    "print(df_listings.shape)"
   ]
  },
  {
   "cell_type": "code",
   "execution_count": null,
   "metadata": {},
   "outputs": [],
   "source": [
    "\n"
   ]
  },
  {
   "cell_type": "code",
   "execution_count": 78,
   "metadata": {},
   "outputs": [
    {
     "name": "stdout",
     "output_type": "stream",
     "text": [
      "(22552, 42)\n"
     ]
    }
   ],
   "source": [
    "#columns to keep\n",
    "\n",
    "required_columns = ['id','host_location','host_response_time','host_response_rate','host_neighbourhood','host_listings_count','host_total_listings_count',\n",
    "                    'host_identity_verified','neighbourhood','neighbourhood_cleansed','neighbourhood_group_cleansed',\n",
    "                    'latitude','longitude','is_location_exact','property_type','room_type','accommodates','bathrooms',\n",
    "                    'bedrooms','beds','bed_type','amenities','square_feet','price','security_deposit','cleaning_fee','guests_included',\n",
    "                    'extra_people','minimum_nights','maximum_nights','calendar_updated','number_of_reviews','review_scores_rating','review_scores_accuracy',\n",
    "                    'review_scores_cleanliness','review_scores_checkin','review_scores_communication','review_scores_location','review_scores_value','instant_bookable',\n",
    "                    'is_business_travel_ready','cancellation_policy','reviews_per_month'\n",
    "                   ]\n",
    "\n",
    "df_new = df_listings[required_columns].set_index('id')\n",
    "\n",
    "print(df_new.shape)"
   ]
  },
  {
   "cell_type": "code",
   "execution_count": null,
   "metadata": {},
   "outputs": [],
   "source": [
    "#data cleaning"
   ]
  }
 ],
 "metadata": {
  "kernelspec": {
   "display_name": "Python 3",
   "language": "python",
   "name": "python3"
  },
  "language_info": {
   "codemirror_mode": {
    "name": "ipython",
    "version": 3
   },
   "file_extension": ".py",
   "mimetype": "text/x-python",
   "name": "python",
   "nbconvert_exporter": "python",
   "pygments_lexer": "ipython3",
   "version": "3.6.8"
  }
 },
 "nbformat": 4,
 "nbformat_minor": 2
}
