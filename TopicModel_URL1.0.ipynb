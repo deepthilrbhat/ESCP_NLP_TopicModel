{
 "cells": [
  {
   "cell_type": "code",
   "execution_count": 1,
   "metadata": {},
   "outputs": [
    {
     "name": "stdout",
     "output_type": "stream",
     "text": [
      "['BBC News Test.csv', 'BBC News Train.csv', 'fig_data_topicmodel.csv']\n"
     ]
    }
   ],
   "source": [
    "import numpy as np # linear algebra\n",
    "import pandas as pd # data processing, CSV file I/O (e.g. pd.read_csv)\n",
    "\n",
    "import os\n",
    "\n",
    "print(os.listdir(\"./input\"))"
   ]
  },
  {
   "cell_type": "code",
   "execution_count": 2,
   "metadata": {},
   "outputs": [],
   "source": [
    "# Data Extraction and exploration\n",
    "\n",
    "fig_data = pd.read_csv(\"./input/fig_data_topicmodel.csv\")"
   ]
  },
  {
   "cell_type": "code",
   "execution_count": 3,
   "metadata": {},
   "outputs": [
    {
     "data": {
      "text/html": [
       "<div>\n",
       "<style scoped>\n",
       "    .dataframe tbody tr th:only-of-type {\n",
       "        vertical-align: middle;\n",
       "    }\n",
       "\n",
       "    .dataframe tbody tr th {\n",
       "        vertical-align: top;\n",
       "    }\n",
       "\n",
       "    .dataframe thead th {\n",
       "        text-align: right;\n",
       "    }\n",
       "</style>\n",
       "<table border=\"1\" class=\"dataframe\">\n",
       "  <thead>\n",
       "    <tr style=\"text-align: right;\">\n",
       "      <th></th>\n",
       "      <th>url_cleaned</th>\n",
       "    </tr>\n",
       "  </thead>\n",
       "  <tbody>\n",
       "    <tr>\n",
       "      <th>0</th>\n",
       "      <td>droit-finances.commentcamarche.com/faq/15494-s...</td>\n",
       "    </tr>\n",
       "    <tr>\n",
       "      <th>1</th>\n",
       "      <td>droit-finances.commentcamarche.com/forum/affic...</td>\n",
       "    </tr>\n",
       "    <tr>\n",
       "      <th>2</th>\n",
       "      <td>droit-finances.commentcamarche.com/faq/4843-aa...</td>\n",
       "    </tr>\n",
       "    <tr>\n",
       "      <th>3</th>\n",
       "      <td>droit-finances.commentcamarche.com/faq/7527-al...</td>\n",
       "    </tr>\n",
       "    <tr>\n",
       "      <th>4</th>\n",
       "      <td>premium.lefigaro.fr/musique/2018/08/01/03006-2...</td>\n",
       "    </tr>\n",
       "  </tbody>\n",
       "</table>\n",
       "</div>"
      ],
      "text/plain": [
       "                                         url_cleaned\n",
       "0  droit-finances.commentcamarche.com/faq/15494-s...\n",
       "1  droit-finances.commentcamarche.com/forum/affic...\n",
       "2  droit-finances.commentcamarche.com/faq/4843-aa...\n",
       "3  droit-finances.commentcamarche.com/faq/7527-al...\n",
       "4  premium.lefigaro.fr/musique/2018/08/01/03006-2..."
      ]
     },
     "execution_count": 3,
     "metadata": {},
     "output_type": "execute_result"
    }
   ],
   "source": [
    "fig_data.head()"
   ]
  },
  {
   "cell_type": "code",
   "execution_count": 4,
   "metadata": {},
   "outputs": [],
   "source": [
    "data_text = fig_data[['url_cleaned']]\n",
    "data_text['index'] = data_text.index\n",
    "documents = data_text"
   ]
  },
  {
   "cell_type": "code",
   "execution_count": 5,
   "metadata": {},
   "outputs": [
    {
     "name": "stdout",
     "output_type": "stream",
     "text": [
      "70329\n",
      "                                         url_cleaned  index\n",
      "0  droit-finances.commentcamarche.com/faq/15494-s...      0\n",
      "1  droit-finances.commentcamarche.com/forum/affic...      1\n",
      "2  droit-finances.commentcamarche.com/faq/4843-aa...      2\n",
      "3  droit-finances.commentcamarche.com/faq/7527-al...      3\n",
      "4  premium.lefigaro.fr/musique/2018/08/01/03006-2...      4\n"
     ]
    }
   ],
   "source": [
    "print(len(documents))\n",
    "print(documents[:5])"
   ]
  },
  {
   "cell_type": "code",
   "execution_count": 6,
   "metadata": {},
   "outputs": [
    {
     "name": "stdout",
     "output_type": "stream",
     "text": [
      "Requirement already satisfied: gensim in /Users/deepashree/anaconda3/lib/python3.6/site-packages (3.7.3)\n",
      "Requirement already satisfied: smart-open>=1.7.0 in /Users/deepashree/anaconda3/lib/python3.6/site-packages (from gensim) (1.8.3)\n",
      "Requirement already satisfied: numpy>=1.11.3 in /Users/deepashree/anaconda3/lib/python3.6/site-packages (from gensim) (1.16.2)\n",
      "Requirement already satisfied: six>=1.5.0 in /Users/deepashree/anaconda3/lib/python3.6/site-packages (from gensim) (1.12.0)\n",
      "Requirement already satisfied: scipy>=0.18.1 in /Users/deepashree/anaconda3/lib/python3.6/site-packages (from gensim) (1.2.1)\n",
      "Requirement already satisfied: boto3 in /Users/deepashree/anaconda3/lib/python3.6/site-packages (from smart-open>=1.7.0->gensim) (1.9.145)\n",
      "Requirement already satisfied: requests in /Users/deepashree/anaconda3/lib/python3.6/site-packages (from smart-open>=1.7.0->gensim) (2.21.0)\n",
      "Requirement already satisfied: boto>=2.32 in /Users/deepashree/anaconda3/lib/python3.6/site-packages (from smart-open>=1.7.0->gensim) (2.49.0)\n",
      "Requirement already satisfied: jmespath<1.0.0,>=0.7.1 in /Users/deepashree/anaconda3/lib/python3.6/site-packages (from boto3->smart-open>=1.7.0->gensim) (0.9.4)\n",
      "Requirement already satisfied: botocore<1.13.0,>=1.12.145 in /Users/deepashree/anaconda3/lib/python3.6/site-packages (from boto3->smart-open>=1.7.0->gensim) (1.12.145)\n",
      "Requirement already satisfied: s3transfer<0.3.0,>=0.2.0 in /Users/deepashree/anaconda3/lib/python3.6/site-packages (from boto3->smart-open>=1.7.0->gensim) (0.2.0)\n",
      "Requirement already satisfied: chardet<3.1.0,>=3.0.2 in /Users/deepashree/anaconda3/lib/python3.6/site-packages (from requests->smart-open>=1.7.0->gensim) (3.0.4)\n",
      "Requirement already satisfied: urllib3<1.25,>=1.21.1 in /Users/deepashree/anaconda3/lib/python3.6/site-packages (from requests->smart-open>=1.7.0->gensim) (1.24.1)\n",
      "Requirement already satisfied: idna<2.9,>=2.5 in /Users/deepashree/anaconda3/lib/python3.6/site-packages (from requests->smart-open>=1.7.0->gensim) (2.8)\n",
      "Requirement already satisfied: certifi>=2017.4.17 in /Users/deepashree/anaconda3/lib/python3.6/site-packages (from requests->smart-open>=1.7.0->gensim) (2018.11.29)\n",
      "Requirement already satisfied: python-dateutil<3.0.0,>=2.1; python_version >= \"2.7\" in /Users/deepashree/anaconda3/lib/python3.6/site-packages (from botocore<1.13.0,>=1.12.145->boto3->smart-open>=1.7.0->gensim) (2.8.0)\n",
      "Requirement already satisfied: docutils>=0.10 in /Users/deepashree/anaconda3/lib/python3.6/site-packages (from botocore<1.13.0,>=1.12.145->boto3->smart-open>=1.7.0->gensim) (0.14)\n"
     ]
    },
    {
     "name": "stderr",
     "output_type": "stream",
     "text": [
      "[nltk_data] Downloading package wordnet to\n",
      "[nltk_data]     /Users/deepashree/nltk_data...\n",
      "[nltk_data]   Package wordnet is already up-to-date!\n"
     ]
    },
    {
     "data": {
      "text/plain": [
       "True"
      ]
     },
     "execution_count": 6,
     "metadata": {},
     "output_type": "execute_result"
    }
   ],
   "source": [
    "!pip install gensim\n",
    "\n",
    "import gensim\n",
    "from gensim.utils import simple_preprocess\n",
    "from gensim.parsing.preprocessing import STOPWORDS\n",
    "from nltk.stem import WordNetLemmatizer, SnowballStemmer\n",
    "from nltk.stem.porter import *\n",
    "\n",
    "import nltk\n",
    "nltk.download('wordnet')"
   ]
  },
  {
   "cell_type": "code",
   "execution_count": 7,
   "metadata": {},
   "outputs": [],
   "source": [
    "#All stopwords are removed.\n",
    "#Words that have fewer than 3 characters are removed.\n",
    "def preprocess(text):\n",
    "    result = []\n",
    "    for token in gensim.utils.simple_preprocess(text):\n",
    "        if token not in gensim.parsing.preprocessing.STOPWORDS and len(token) > 3:\n",
    "            result.append(token)\n",
    "    return result\n",
    "\n",
    "def make_bigrams(data_words):\n",
    "    # Build the bigram and trigram models\n",
    "    bigram = gensim.models.Phrases(data_words, min_count=5, threshold=100) # higher threshold fewer phrases.\n",
    "    #trigram = gensim.models.Phrases(bigram[data_words], threshold=100)  \n",
    "\n",
    "    # Faster way to get a sentence clubbed as a trigram/bigram\n",
    "    bigram_mod = gensim.models.phrases.Phraser(bigram)\n",
    "    #trigram_mod = gensim.models.phrases.Phraser(trigram)\n",
    "\n",
    "    # See bigram example\n",
    "    print(bigram_mod[data_words[0]])\n",
    "    return [bigram_mod[doc] for doc in data_words]"
   ]
  },
  {
   "cell_type": "code",
   "execution_count": 8,
   "metadata": {},
   "outputs": [
    {
     "name": "stdout",
     "output_type": "stream",
     "text": [
      "['droit', 'finances', 'commentcamarche', 'salaire', 'assistante', 'maternelle', 'faut_savoir']\n"
     ]
    }
   ],
   "source": [
    "processed_docs = documents['url_cleaned'].map(preprocess)\n",
    "processed_docs[:10]\n",
    "\n",
    "# Form Bigrams\n",
    "processed_docs2 = make_bigrams(processed_docs)"
   ]
  },
  {
   "cell_type": "code",
   "execution_count": 17,
   "metadata": {},
   "outputs": [
    {
     "name": "stdout",
     "output_type": "stream",
     "text": [
      "35545\n"
     ]
    }
   ],
   "source": [
    "#key is the word and value is the number of times that word occurs in the entire corpus\n",
    "dictionary = gensim.corpora.Dictionary(processed_docs2)\n",
    "print(len(dictionary))"
   ]
  },
  {
   "cell_type": "code",
   "execution_count": 18,
   "metadata": {},
   "outputs": [
    {
     "name": "stdout",
     "output_type": "stream",
     "text": [
      "15354\n"
     ]
    }
   ],
   "source": [
    "'''\n",
    "OPTIONAL STEP\n",
    "Remove very rare and very common words:\n",
    "\n",
    "- words appearing less than 15 times\n",
    "- words appearing in more than 20% of all documents\n",
    "'''\n",
    "dictionary.filter_extremes(no_below=3, no_above=0.20, keep_n= 100000)\n",
    "print(len(dictionary))"
   ]
  },
  {
   "cell_type": "code",
   "execution_count": 19,
   "metadata": {},
   "outputs": [],
   "source": [
    "#bag of words\n",
    "bow_corpus = [dictionary.doc2bow(doc) for doc in processed_docs2]\n"
   ]
  },
  {
   "cell_type": "code",
   "execution_count": 22,
   "metadata": {},
   "outputs": [],
   "source": [
    "#lda model\n",
    "lda_model =  gensim.models.LdaMulticore(bow_corpus, \n",
    "                                   num_topics = 8, \n",
    "                                   id2word = dictionary,                                    \n",
    "                                   passes = 10,\n",
    "                                   workers = 2)"
   ]
  },
  {
   "cell_type": "code",
   "execution_count": 21,
   "metadata": {},
   "outputs": [
    {
     "name": "stdout",
     "output_type": "stream",
     "text": [
      "Topic: 0 \n",
      "Words: 0.087*\"info\" + 0.046*\"photos\" + 0.041*\"evenements\" + 0.024*\"sante\" + 0.019*\"mode\" + 0.018*\"prenoms\" + 0.016*\"scoop\" + 0.015*\"enfants\" + 0.014*\"prenom\" + 0.012*\"mode_shopping\"\n",
      "\n",
      "\n",
      "Topic: 1 \n",
      "Words: 0.181*\"linternaute\" + 0.043*\"actualite\" + 0.030*\"television\" + 0.027*\"magazine\" + 0.023*\"societe\" + 0.022*\"plus\" + 0.020*\"pour\" + 0.016*\"auto\" + 0.015*\"images\" + 0.012*\"personnalites\"\n",
      "\n",
      "\n",
      "Topic: 2 \n",
      "Words: 0.123*\"artfig\" + 0.046*\"actualite\" + 0.037*\"france\" + 0.032*\"politique\" + 0.020*\"international\" + 0.019*\"macron\" + 0.019*\"video\" + 0.017*\"scan\" + 0.016*\"societe\" + 0.014*\"premium\"\n",
      "\n",
      "\n",
      "Topic: 3 \n",
      "Words: 0.116*\"cuisine\" + 0.071*\"meteo\" + 0.068*\"recettes\" + 0.064*\"gastronomie\" + 0.046*\"france\" + 0.035*\"lachainemeteo\" + 0.034*\"recette\" + 0.033*\"previsions\" + 0.022*\"ville\" + 0.007*\"avec\"\n",
      "\n",
      "\n",
      "Topic: 4 \n",
      "Words: 0.163*\"people\" + 0.118*\"magazine\" + 0.112*\"stars\" + 0.061*\"infos\" + 0.059*\"actu\" + 0.057*\"news\" + 0.056*\"scoops\" + 0.025*\"leparticulier\" + 0.025*\"jcms\" + 0.025*\"week_chez\"\n",
      "\n",
      "\n",
      "Topic: 5 \n",
      "Words: 0.123*\"programme\" + 0.084*\"deco\" + 0.050*\"tvmag\" + 0.021*\"france\" + 0.020*\"salon\" + 0.017*\"chambre\" + 0.017*\"miss\" + 0.017*\"noel\" + 0.010*\"europe\" + 0.009*\"femmes\"\n",
      "\n",
      "\n",
      "Topic: 6 \n",
      "Words: 0.084*\"commentcamarche\" + 0.072*\"finances\" + 0.066*\"droit\" + 0.036*\"forum\" + 0.036*\"affich\" + 0.013*\"contents\" + 0.013*\"pour\" + 0.012*\"comment\" + 0.009*\"journaldunet_patrimoine\" + 0.009*\"impots\"\n",
      "\n",
      "\n",
      "Topic: 7 \n",
      "Words: 0.085*\"flash\" + 0.085*\"filwww\" + 0.076*\"actu\" + 0.028*\"article\" + 0.020*\"pour\" + 0.018*\"html\" + 0.017*\"immobilier\" + 0.015*\"journaldunet_management\" + 0.015*\"dans\" + 0.009*\"etudiant\"\n",
      "\n",
      "\n",
      "Topic: 8 \n",
      "Words: 0.084*\"sante\" + 0.075*\"medecine\" + 0.052*\"cinema\" + 0.043*\"linternaute\" + 0.020*\"star\" + 0.009*\"laeticia_hallyday\" + 0.009*\"definition\" + 0.009*\"traitement\" + 0.007*\"symptomes_traitement\" + 0.007*\"festival_cannes\"\n",
      "\n",
      "\n",
      "Topic: 9 \n",
      "Words: 0.083*\"sport\" + 0.046*\"madame\" + 0.029*\"actualites\" + 0.025*\"celebrites\" + 0.021*\"monde\" + 0.017*\"beaute\" + 0.015*\"photos\" + 0.013*\"football_ligue\" + 0.013*\"coupe\" + 0.013*\"coiffure\"\n",
      "\n",
      "\n"
     ]
    }
   ],
   "source": [
    "'''\n",
    "For each topic, we will explore the words occuring in that topic and its relative weight\n",
    "'''\n",
    "for idx, topic in lda_model.print_topics(-1):\n",
    "    print(\"Topic: {} \\nWords: {}\".format(idx, topic ))\n",
    "    print(\"\\n\")"
   ]
  },
  {
   "cell_type": "code",
   "execution_count": null,
   "metadata": {},
   "outputs": [],
   "source": [
    "# Compute Perplexity\n",
    "print('\\nPerplexity: ', lda_model.log_perplexity(corpus))  # a measure of how good the model is. lower the better.\n",
    "\n",
    "# Compute Coherence Score\n",
    "coherence_model_lda = CoherenceModel(model=lda_model, texts=data_lemmatized, dictionary=id2word, coherence='c_v')\n",
    "coherence_lda = coherence_model_lda.get_coherence()\n",
    "print('\\nCoherence Score: ', coherence_lda)"
   ]
  },
  {
   "cell_type": "code",
   "execution_count": null,
   "metadata": {},
   "outputs": [],
   "source": []
  }
 ],
 "metadata": {
  "kernelspec": {
   "display_name": "Python 3",
   "language": "python",
   "name": "python3"
  },
  "language_info": {
   "codemirror_mode": {
    "name": "ipython",
    "version": 3
   },
   "file_extension": ".py",
   "mimetype": "text/x-python",
   "name": "python",
   "nbconvert_exporter": "python",
   "pygments_lexer": "ipython3",
   "version": "3.6.8"
  }
 },
 "nbformat": 4,
 "nbformat_minor": 2
}
