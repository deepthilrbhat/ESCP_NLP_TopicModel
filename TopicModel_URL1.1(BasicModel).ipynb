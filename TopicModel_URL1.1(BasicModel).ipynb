{
 "cells": [
  {
   "cell_type": "code",
   "execution_count": 1,
   "metadata": {},
   "outputs": [
    {
     "name": "stdout",
     "output_type": "stream",
     "text": [
      "['BBC News Test.csv', 'BBC News Train.csv', 'fig_data_topicmodel.csv']\n"
     ]
    }
   ],
   "source": [
    "import numpy as np # linear algebra\n",
    "import pandas as pd # data processing, CSV file I/O (e.g. pd.read_csv)\n",
    "\n",
    "import os\n",
    "\n",
    "print(os.listdir(\"./input\"))"
   ]
  },
  {
   "cell_type": "code",
   "execution_count": 2,
   "metadata": {},
   "outputs": [],
   "source": [
    "# Data Extraction and exploration\n",
    "\n",
    "fig_data = pd.read_csv(\"./input/fig_data_topicmodel.csv\")"
   ]
  },
  {
   "cell_type": "code",
   "execution_count": 3,
   "metadata": {},
   "outputs": [
    {
     "data": {
      "text/html": [
       "<div>\n",
       "<style scoped>\n",
       "    .dataframe tbody tr th:only-of-type {\n",
       "        vertical-align: middle;\n",
       "    }\n",
       "\n",
       "    .dataframe tbody tr th {\n",
       "        vertical-align: top;\n",
       "    }\n",
       "\n",
       "    .dataframe thead th {\n",
       "        text-align: right;\n",
       "    }\n",
       "</style>\n",
       "<table border=\"1\" class=\"dataframe\">\n",
       "  <thead>\n",
       "    <tr style=\"text-align: right;\">\n",
       "      <th></th>\n",
       "      <th>url_cleaned</th>\n",
       "    </tr>\n",
       "  </thead>\n",
       "  <tbody>\n",
       "    <tr>\n",
       "      <th>0</th>\n",
       "      <td>droit-finances.commentcamarche.com/faq/15494-s...</td>\n",
       "    </tr>\n",
       "    <tr>\n",
       "      <th>1</th>\n",
       "      <td>droit-finances.commentcamarche.com/forum/affic...</td>\n",
       "    </tr>\n",
       "    <tr>\n",
       "      <th>2</th>\n",
       "      <td>droit-finances.commentcamarche.com/faq/4843-aa...</td>\n",
       "    </tr>\n",
       "    <tr>\n",
       "      <th>3</th>\n",
       "      <td>droit-finances.commentcamarche.com/faq/7527-al...</td>\n",
       "    </tr>\n",
       "    <tr>\n",
       "      <th>4</th>\n",
       "      <td>premium.lefigaro.fr/musique/2018/08/01/03006-2...</td>\n",
       "    </tr>\n",
       "  </tbody>\n",
       "</table>\n",
       "</div>"
      ],
      "text/plain": [
       "                                         url_cleaned\n",
       "0  droit-finances.commentcamarche.com/faq/15494-s...\n",
       "1  droit-finances.commentcamarche.com/forum/affic...\n",
       "2  droit-finances.commentcamarche.com/faq/4843-aa...\n",
       "3  droit-finances.commentcamarche.com/faq/7527-al...\n",
       "4  premium.lefigaro.fr/musique/2018/08/01/03006-2..."
      ]
     },
     "execution_count": 3,
     "metadata": {},
     "output_type": "execute_result"
    }
   ],
   "source": [
    "fig_data.head()"
   ]
  },
  {
   "cell_type": "code",
   "execution_count": 4,
   "metadata": {},
   "outputs": [],
   "source": [
    "data_text = fig_data[['url_cleaned']]\n",
    "data_text['index'] = data_text.index\n",
    "documents = data_text"
   ]
  },
  {
   "cell_type": "code",
   "execution_count": 5,
   "metadata": {},
   "outputs": [
    {
     "name": "stdout",
     "output_type": "stream",
     "text": [
      "70329\n",
      "                                         url_cleaned  index\n",
      "0  droit-finances.commentcamarche.com/faq/15494-s...      0\n",
      "1  droit-finances.commentcamarche.com/forum/affic...      1\n",
      "2  droit-finances.commentcamarche.com/faq/4843-aa...      2\n",
      "3  droit-finances.commentcamarche.com/faq/7527-al...      3\n",
      "4  premium.lefigaro.fr/musique/2018/08/01/03006-2...      4\n"
     ]
    }
   ],
   "source": [
    "print(len(documents))\n",
    "print(documents[:5])"
   ]
  },
  {
   "cell_type": "code",
   "execution_count": 6,
   "metadata": {},
   "outputs": [
    {
     "name": "stdout",
     "output_type": "stream",
     "text": [
      "Requirement already satisfied: gensim in /Users/deepashree/anaconda3/lib/python3.6/site-packages (3.7.3)\n",
      "Requirement already satisfied: six>=1.5.0 in /Users/deepashree/anaconda3/lib/python3.6/site-packages (from gensim) (1.12.0)\n",
      "Requirement already satisfied: smart-open>=1.7.0 in /Users/deepashree/anaconda3/lib/python3.6/site-packages (from gensim) (1.8.3)\n",
      "Requirement already satisfied: numpy>=1.11.3 in /Users/deepashree/anaconda3/lib/python3.6/site-packages (from gensim) (1.16.2)\n",
      "Requirement already satisfied: scipy>=0.18.1 in /Users/deepashree/anaconda3/lib/python3.6/site-packages (from gensim) (1.2.1)\n",
      "Requirement already satisfied: requests in /Users/deepashree/anaconda3/lib/python3.6/site-packages (from smart-open>=1.7.0->gensim) (2.21.0)\n",
      "Requirement already satisfied: boto3 in /Users/deepashree/anaconda3/lib/python3.6/site-packages (from smart-open>=1.7.0->gensim) (1.9.145)\n",
      "Requirement already satisfied: boto>=2.32 in /Users/deepashree/anaconda3/lib/python3.6/site-packages (from smart-open>=1.7.0->gensim) (2.49.0)\n",
      "Requirement already satisfied: chardet<3.1.0,>=3.0.2 in /Users/deepashree/anaconda3/lib/python3.6/site-packages (from requests->smart-open>=1.7.0->gensim) (3.0.4)\n",
      "Requirement already satisfied: urllib3<1.25,>=1.21.1 in /Users/deepashree/anaconda3/lib/python3.6/site-packages (from requests->smart-open>=1.7.0->gensim) (1.24.1)\n",
      "Requirement already satisfied: idna<2.9,>=2.5 in /Users/deepashree/anaconda3/lib/python3.6/site-packages (from requests->smart-open>=1.7.0->gensim) (2.8)\n",
      "Requirement already satisfied: certifi>=2017.4.17 in /Users/deepashree/anaconda3/lib/python3.6/site-packages (from requests->smart-open>=1.7.0->gensim) (2018.11.29)\n",
      "Requirement already satisfied: botocore<1.13.0,>=1.12.145 in /Users/deepashree/anaconda3/lib/python3.6/site-packages (from boto3->smart-open>=1.7.0->gensim) (1.12.145)\n",
      "Requirement already satisfied: s3transfer<0.3.0,>=0.2.0 in /Users/deepashree/anaconda3/lib/python3.6/site-packages (from boto3->smart-open>=1.7.0->gensim) (0.2.0)\n",
      "Requirement already satisfied: jmespath<1.0.0,>=0.7.1 in /Users/deepashree/anaconda3/lib/python3.6/site-packages (from boto3->smart-open>=1.7.0->gensim) (0.9.4)\n",
      "Requirement already satisfied: docutils>=0.10 in /Users/deepashree/anaconda3/lib/python3.6/site-packages (from botocore<1.13.0,>=1.12.145->boto3->smart-open>=1.7.0->gensim) (0.14)\n",
      "Requirement already satisfied: python-dateutil<3.0.0,>=2.1; python_version >= \"2.7\" in /Users/deepashree/anaconda3/lib/python3.6/site-packages (from botocore<1.13.0,>=1.12.145->boto3->smart-open>=1.7.0->gensim) (2.8.0)\n",
      "Requirement already satisfied: spacy in /Users/deepashree/anaconda3/lib/python3.6/site-packages (2.1.4)\n",
      "Requirement already satisfied: murmurhash<1.1.0,>=0.28.0 in /Users/deepashree/anaconda3/lib/python3.6/site-packages (from spacy) (1.0.2)\n",
      "Requirement already satisfied: preshed<2.1.0,>=2.0.1 in /Users/deepashree/anaconda3/lib/python3.6/site-packages (from spacy) (2.0.1)\n",
      "Requirement already satisfied: jsonschema<3.1.0,>=2.6.0 in /Users/deepashree/anaconda3/lib/python3.6/site-packages (from spacy) (2.6.0)\n",
      "Requirement already satisfied: cymem<2.1.0,>=2.0.2 in /Users/deepashree/anaconda3/lib/python3.6/site-packages (from spacy) (2.0.2)\n",
      "Requirement already satisfied: srsly<1.1.0,>=0.0.5 in /Users/deepashree/anaconda3/lib/python3.6/site-packages (from spacy) (0.0.5)\n",
      "Requirement already satisfied: plac<1.0.0,>=0.9.6 in /Users/deepashree/anaconda3/lib/python3.6/site-packages (from spacy) (0.9.6)\n",
      "Requirement already satisfied: numpy>=1.15.0 in /Users/deepashree/anaconda3/lib/python3.6/site-packages (from spacy) (1.16.2)\n",
      "Requirement already satisfied: blis<0.3.0,>=0.2.2 in /Users/deepashree/anaconda3/lib/python3.6/site-packages (from spacy) (0.2.4)\n",
      "Requirement already satisfied: thinc<7.1.0,>=7.0.2 in /Users/deepashree/anaconda3/lib/python3.6/site-packages (from spacy) (7.0.4)\n",
      "Requirement already satisfied: requests<3.0.0,>=2.13.0 in /Users/deepashree/anaconda3/lib/python3.6/site-packages (from spacy) (2.21.0)\n",
      "Requirement already satisfied: wasabi<1.1.0,>=0.2.0 in /Users/deepashree/anaconda3/lib/python3.6/site-packages (from spacy) (0.2.2)\n",
      "Requirement already satisfied: tqdm<5.0.0,>=4.10.0 in /Users/deepashree/anaconda3/lib/python3.6/site-packages (from thinc<7.1.0,>=7.0.2->spacy) (4.31.1)\n",
      "Requirement already satisfied: idna<2.9,>=2.5 in /Users/deepashree/anaconda3/lib/python3.6/site-packages (from requests<3.0.0,>=2.13.0->spacy) (2.8)\n",
      "Requirement already satisfied: chardet<3.1.0,>=3.0.2 in /Users/deepashree/anaconda3/lib/python3.6/site-packages (from requests<3.0.0,>=2.13.0->spacy) (3.0.4)\n",
      "Requirement already satisfied: certifi>=2017.4.17 in /Users/deepashree/anaconda3/lib/python3.6/site-packages (from requests<3.0.0,>=2.13.0->spacy) (2018.11.29)\n",
      "Requirement already satisfied: urllib3<1.25,>=1.21.1 in /Users/deepashree/anaconda3/lib/python3.6/site-packages (from requests<3.0.0,>=2.13.0->spacy) (1.24.1)\n",
      "Requirement already satisfied: fr_core_news_sm==2.1.0 from https://github.com/explosion/spacy-models/releases/download/fr_core_news_sm-2.1.0/fr_core_news_sm-2.1.0.tar.gz#egg=fr_core_news_sm==2.1.0 in /Users/deepashree/anaconda3/lib/python3.6/site-packages (2.1.0)\n",
      "\u001b[38;5;2m✔ Download and installation successful\u001b[0m\n",
      "You can now load the model via spacy.load('fr_core_news_sm')\n",
      "\u001b[38;5;2m✔ Linking successful\u001b[0m\n",
      "/Users/deepashree/anaconda3/lib/python3.6/site-packages/fr_core_news_sm -->\n",
      "/Users/deepashree/anaconda3/lib/python3.6/site-packages/spacy/data/fr\n",
      "You can now load the model via spacy.load('fr')\n"
     ]
    }
   ],
   "source": [
    "!pip install gensim\n",
    "!pip install spacy\n",
    "\n",
    "import gensim\n",
    "from gensim.utils import simple_preprocess\n",
    "from gensim.parsing.preprocessing import STOPWORDS\n",
    "from nltk.stem import WordNetLemmatizer, SnowballStemmer\n",
    "from nltk.stem.porter import *\n",
    "from nltk.corpus import stopwords\n",
    "import gensim.corpora as corpora\n",
    "from gensim.models import CoherenceModel\n",
    "\n",
    "import nltk\n",
    "#nltk.download('wordnet')\n",
    "#nltk.download('stopwords')\n",
    "\n",
    "\n",
    "\n",
    "import spacy\n",
    "\n",
    "!python -m spacy download fr\n",
    "#nlp = spacy.load(\"fr\")\n",
    "#spacy.download('fr_core_web_sm')\n",
    "#pacy.download('fren_core_web_sm')"
   ]
  },
  {
   "cell_type": "code",
   "execution_count": 7,
   "metadata": {},
   "outputs": [
    {
     "name": "stdout",
     "output_type": "stream",
     "text": [
      "[['droit', 'finances', 'commentcamarche', 'com', 'faq', 'salaire', 'une', 'assistante', 'maternelle', 'ce', 'qu', 'il', 'faut', 'savoir']]\n"
     ]
    }
   ],
   "source": [
    "#tokenise words\n",
    "def sent_to_words(sentences):\n",
    "    for sentence in sentences:\n",
    "        yield(gensim.utils.simple_preprocess(str(sentence), deacc=True))  # deacc=True removes punctuations\n",
    "\n",
    "data_words = list(sent_to_words(documents['url_cleaned']))\n",
    "\n",
    "print(data_words[:1])"
   ]
  },
  {
   "cell_type": "code",
   "execution_count": 8,
   "metadata": {},
   "outputs": [],
   "source": [
    "#create stop words list\n",
    "\n",
    "stop_words = set(stopwords.words('french'))\n",
    "\n",
    "#add words that aren't in the NLTK stopwords list\n",
    "new_stopwords = ['cette', 'les', 'cet']\n",
    "new_stopwords_list = stop_words.union(new_stopwords)"
   ]
  },
  {
   "cell_type": "code",
   "execution_count": 9,
   "metadata": {},
   "outputs": [
    {
     "name": "stdout",
     "output_type": "stream",
     "text": [
      "['droit', 'finances', 'commentcamarche', 'com', 'faq', 'salaire', 'une', 'assistante', 'maternelle', 'ce', 'qu', 'il_faut_savoir']\n"
     ]
    }
   ],
   "source": [
    "# Build the bigram and trigram models\n",
    "bigram = gensim.models.Phrases(data_words, min_count=5, threshold=100) # higher threshold fewer phrases.\n",
    "trigram = gensim.models.Phrases(bigram[data_words], threshold=100)  \n",
    "\n",
    "# Faster way to get a sentence clubbed as a trigram/bigram\n",
    "bigram_mod = gensim.models.phrases.Phraser(bigram)\n",
    "trigram_mod = gensim.models.phrases.Phraser(trigram)\n",
    "\n",
    "# See trigram example\n",
    "print(trigram_mod[bigram_mod[data_words[0]]])"
   ]
  },
  {
   "cell_type": "code",
   "execution_count": 10,
   "metadata": {},
   "outputs": [],
   "source": [
    "# Define functions for stopwords, bigrams, trigrams and lemmatization\n",
    "def remove_stopwords(texts):\n",
    "    return [[word for word in simple_preprocess(str(doc)) if word not in stop_words and len(word) > 3] for doc in texts]\n",
    "\n",
    "def make_bigrams(texts):\n",
    "    return [bigram_mod[doc] for doc in texts]\n",
    "\n",
    "def make_trigrams(texts):\n",
    "    return [trigram_mod[bigram_mod[doc]] for doc in texts]\n",
    "\n",
    "# Initialize spacy 'en' model, keeping only tagger component (for efficiency)\n",
    "# python3 -m spacy download en\n",
    "nlp = spacy.load('fr', disable=['parser', 'ner'])\n",
    "\n",
    "def lemmatization(texts, allowed_postags=['NOUN', 'ADJ', 'VERB', 'ADV']):\n",
    "    \"\"\"https://spacy.io/api/annotation\"\"\"\n",
    "    texts_out = []\n",
    "    for sent in texts:\n",
    "        doc = nlp(\" \".join(sent)) \n",
    "        texts_out.append([token.lemma_ for token in doc if token.pos_ in allowed_postags])\n",
    "    return texts_out"
   ]
  },
  {
   "cell_type": "code",
   "execution_count": 11,
   "metadata": {},
   "outputs": [
    {
     "name": "stdout",
     "output_type": "stream",
     "text": [
      "[['droit', 'finances', 'commentcamarche', 'salaire', 'assistante', 'maternelle', 'faut_savoir']]\n"
     ]
    }
   ],
   "source": [
    "# Remove Stop Words\n",
    "data_words_nostops = remove_stopwords(data_words)\n",
    "\n",
    "# Form Bigrams\n",
    "data_words_bigrams = make_bigrams(data_words_nostops)\n",
    "\n",
    "# Do lemmatization keeping only noun, adj, vb, adv\n",
    "data_lemmatized = lemmatization(data_words_bigrams, allowed_postags=['NOUN', 'ADJ', 'VERB', 'ADV'])\n",
    "\n",
    "print(data_words_bigrams[:1])"
   ]
  },
  {
   "cell_type": "code",
   "execution_count": 12,
   "metadata": {},
   "outputs": [
    {
     "name": "stdout",
     "output_type": "stream",
     "text": [
      "30662\n"
     ]
    }
   ],
   "source": [
    "#key is the word and value is the number of times that word occurs in the entire corpus\n",
    "dictionary = gensim.corpora.Dictionary(data_lemmatized)\n",
    "print(len(dictionary))"
   ]
  },
  {
   "cell_type": "code",
   "execution_count": 13,
   "metadata": {},
   "outputs": [
    {
     "name": "stdout",
     "output_type": "stream",
     "text": [
      "13122\n"
     ]
    }
   ],
   "source": [
    "'''\n",
    "OPTIONAL STEP\n",
    "Remove very rare and very common words:\n",
    "\n",
    "- words appearing less than 3 times\n",
    "- words appearing in more than 20% of all documents\n",
    "'''\n",
    "dictionary.filter_extremes(no_below=3, no_above=0.20, keep_n= 100000)\n",
    "print(len(dictionary))"
   ]
  },
  {
   "cell_type": "code",
   "execution_count": 14,
   "metadata": {},
   "outputs": [
    {
     "name": "stdout",
     "output_type": "stream",
     "text": [
      "[[(0, 1), (1, 1), (2, 1), (3, 1), (4, 1), (5, 1), (6, 1)]]\n"
     ]
    }
   ],
   "source": [
    "# Create Dictionary\n",
    "#id2word = corpora.Dictionary(dictionary)\n",
    "\n",
    "# Create Corpus\n",
    "#bag of words\n",
    "corpus = [dictionary.doc2bow(doc) for doc in data_lemmatized]\n",
    "\n",
    "# View\n",
    "print(corpus[:1])\n"
   ]
  },
  {
   "cell_type": "code",
   "execution_count": 18,
   "metadata": {},
   "outputs": [],
   "source": [
    "# Build LDA model\n",
    "lda_model = gensim.models.ldamodel.LdaModel(corpus=corpus,\n",
    "                                           id2word=dictionary,\n",
    "                                           num_topics=8, \n",
    "                                           random_state=100,\n",
    "                                           update_every=1,\n",
    "                                           chunksize=100,\n",
    "                                           passes=10,\n",
    "                                           alpha='auto',\n",
    "                                           per_word_topics=True)"
   ]
  },
  {
   "cell_type": "code",
   "execution_count": 19,
   "metadata": {},
   "outputs": [
    {
     "name": "stdout",
     "output_type": "stream",
     "text": [
      "Topic: 0 \n",
      "Words: 0.145*\"flash\" + 0.144*\"filwww\" + 0.130*\"info\" + 0.055*\"programme\" + 0.024*\"article\" + 0.021*\"jeunes_femme\" + 0.021*\"video\" + 0.015*\"homme\" + 0.015*\"montant\" + 0.011*\"premier\"\n",
      "\n",
      "\n",
      "Topic: 1 \n",
      "Words: 0.080*\"sant\" + 0.058*\"medecin\" + 0.057*\"Monsieur\" + 0.052*\"photo\" + 0.031*\"omar\" + 0.030*\"celebrite\" + 0.020*\"plus\" + 0.017*\"bain\" + 0.016*\"maillot\" + 0.015*\"traitement\"\n",
      "\n",
      "\n",
      "Topic: 2 \n",
      "Words: 0.106*\"people\" + 0.098*\"magazin\" + 0.070*\"star\" + 0.065*\"television\" + 0.032*\"week\" + 0.029*\"caun\" + 0.029*\"devaste_emmer\" + 0.029*\"papa_belmondo\" + 0.025*\"miss\" + 0.023*\"femme\"\n",
      "\n",
      "\n",
      "Topic: 3 \n",
      "Words: 0.103*\"cuisin\" + 0.096*\"recette\" + 0.060*\"gastronomie\" + 0.037*\"finance\" + 0.035*\"deco\" + 0.032*\"droit\" + 0.017*\"commentcamarche\" + 0.017*\"commentcamarch\" + 0.016*\"salon\" + 0.011*\"mort\"\n",
      "\n",
      "\n",
      "Topic: 4 \n",
      "Words: 0.137*\"actualité\" + 0.107*\"sport\" + 0.053*\"direct\" + 0.027*\"economie\" + 0.018*\"football\" + 0.017*\"prix\" + 0.016*\"tirage\" + 0.012*\"tendance\" + 0.012*\"tennis\" + 0.011*\"choc\"\n",
      "\n",
      "\n",
      "Topic: 5 \n",
      "Words: 0.140*\"actualite\" + 0.060*\"artfig\" + 0.044*\"france\" + 0.020*\"disparition\" + 0.016*\"date\" + 0.016*\"premium\" + 0.016*\"international\" + 0.015*\"sortir\" + 0.014*\"facile\" + 0.014*\"maely\"\n",
      "\n",
      "\n",
      "Topic: 6 \n",
      "Words: 0.106*\"pratique\" + 0.091*\"linternaute\" + 0.069*\"actualit\" + 0.047*\"auto\" + 0.044*\"magazine\" + 0.027*\"saint\" + 0.021*\"salair\" + 0.020*\"linternaut\" + 0.019*\"coup\" + 0.018*\"perturbation\"\n",
      "\n",
      "\n",
      "Topic: 7 \n",
      "Words: 0.099*\"programm\" + 0.094*\"societ\" + 0.060*\"journaldunet\" + 0.041*\"politique\" + 0.040*\"tvmag\" + 0.034*\"html\" + 0.030*\"management\" + 0.028*\"nouveau\" + 0.025*\"monde\" + 0.022*\"macron\"\n",
      "\n",
      "\n"
     ]
    }
   ],
   "source": [
    "'''\n",
    "For each topic, we will explore the words occuring in that topic and its relative weight\n",
    "'''\n",
    "for idx, topic in lda_model.print_topics(-1):\n",
    "    print(\"Topic: {} \\nWords: {}\".format(idx, topic ))\n",
    "    print(\"\\n\")"
   ]
  },
  {
   "cell_type": "code",
   "execution_count": 20,
   "metadata": {},
   "outputs": [
    {
     "name": "stdout",
     "output_type": "stream",
     "text": [
      "\n",
      "Perplexity:  -8.43523387234754\n",
      "\n",
      "Coherence Score:  0.4386791885652738\n"
     ]
    }
   ],
   "source": [
    "# Compute Perplexity\n",
    "print('\\nPerplexity: ', lda_model.log_perplexity(corpus))  # a measure of how good the model is. lower the better.\n",
    "\n",
    "# Compute Coherence Score\n",
    "coherence_model_lda = CoherenceModel(model=lda_model, texts=data_lemmatized, dictionary=dictionary, coherence='c_v')\n",
    "coherence_lda = coherence_model_lda.get_coherence()\n",
    "print('\\nCoherence Score: ', coherence_lda)"
   ]
  },
  {
   "cell_type": "code",
   "execution_count": null,
   "metadata": {},
   "outputs": [],
   "source": []
  }
 ],
 "metadata": {
  "kernelspec": {
   "display_name": "Python 3",
   "language": "python",
   "name": "python3"
  },
  "language_info": {
   "codemirror_mode": {
    "name": "ipython",
    "version": 3
   },
   "file_extension": ".py",
   "mimetype": "text/x-python",
   "name": "python",
   "nbconvert_exporter": "python",
   "pygments_lexer": "ipython3",
   "version": "3.6.8"
  }
 },
 "nbformat": 4,
 "nbformat_minor": 2
}
